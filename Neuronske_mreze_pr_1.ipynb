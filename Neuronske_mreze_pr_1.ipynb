{
  "nbformat": 4,
  "nbformat_minor": 0,
  "metadata": {
    "colab": {
      "name": "Neuronske mreze.pr 1",
      "provenance": []
    },
    "kernelspec": {
      "name": "python3",
      "display_name": "Python 3"
    },
    "language_info": {
      "name": "python"
    }
  },
  "cells": [
    {
      "cell_type": "code",
      "execution_count": 1,
      "metadata": {
        "id": "dVO0R1yEb4LR"
      },
      "outputs": [],
      "source": [
        "import numpy as np\n"
      ]
    },
    {
      "cell_type": "code",
      "source": [
        "#dodjeljujemo input vrijednosti\n",
        "input_value=np.array([[0,0],[0,1],[1,1],[1,0]])\n",
        "input_value.shape\n",
        "input_value"
      ],
      "metadata": {
        "colab": {
          "base_uri": "https://localhost:8080/"
        },
        "id": "SV-7r0KZdg0t",
        "outputId": "4a0146a7-b9e8-46b9-c1f0-2ce23ca685a6"
      },
      "execution_count": 3,
      "outputs": [
        {
          "output_type": "execute_result",
          "data": {
            "text/plain": [
              "array([[0, 0],\n",
              "       [0, 1],\n",
              "       [1, 1],\n",
              "       [1, 0]])"
            ]
          },
          "metadata": {},
          "execution_count": 3
        }
      ]
    },
    {
      "cell_type": "code",
      "source": [
        "#dodjeljujemo output vrijednosti\n",
        "output=np.array([[0],[1],[1],[0]])\n",
        "output.shape"
      ],
      "metadata": {
        "colab": {
          "base_uri": "https://localhost:8080/"
        },
        "id": "NuA9IRYNeN1j",
        "outputId": "3153775c-0351-4a15-ef34-143cc8094566"
      },
      "execution_count": 8,
      "outputs": [
        {
          "output_type": "execute_result",
          "data": {
            "text/plain": [
              "(4, 1)"
            ]
          },
          "metadata": {},
          "execution_count": 8
        }
      ]
    },
    {
      "cell_type": "code",
      "source": [
        "#dodjeljujemo tezine\n",
        "weights=np.array([[0.1],[0.2]])\n",
        "weights"
      ],
      "metadata": {
        "colab": {
          "base_uri": "https://localhost:8080/"
        },
        "id": "sKWMPh1jfxSY",
        "outputId": "dff111f2-36d9-4ebc-afba-107f8462f2cd"
      },
      "execution_count": 10,
      "outputs": [
        {
          "output_type": "execute_result",
          "data": {
            "text/plain": [
              "array([[0.1],\n",
              "       [0.2]])"
            ]
          },
          "metadata": {},
          "execution_count": 10
        }
      ]
    },
    {
      "cell_type": "code",
      "source": [
        "#dodajemo bias\n",
        "bias=0.3"
      ],
      "metadata": {
        "id": "g-SMxWdfgKDN"
      },
      "execution_count": 11,
      "outputs": []
    },
    {
      "cell_type": "code",
      "source": [
        "#aktivacijska funkcija - sigmoid\n",
        "def sigmoid_func(x):\n",
        "  return 1/(1+np.exp(-x))"
      ],
      "metadata": {
        "id": "eGJN7BL0gQ2f"
      },
      "execution_count": 12,
      "outputs": []
    },
    {
      "cell_type": "code",
      "source": [
        "#nalazimo izvod ove funkcije koji ce nam koristiti kod opadajuceg gradijenta\n",
        "def der(x):\n",
        "  return sigmoid_func(x)*(1-sigmoid_func(x))"
      ],
      "metadata": {
        "id": "OkwPWc0Hgta9"
      },
      "execution_count": 13,
      "outputs": []
    },
    {
      "cell_type": "code",
      "source": [
        "#epoch - broj prolaza cjelokupnog skupa podataka za obuku koji je algoritam zavrsio\n",
        "for epochs in range(1000):\n",
        "  input_arr=input_value\n",
        "  \n",
        "  weighted_sum=np.dot(input_arr, weights)+bias  #vektorski proizvod inputa i tezina + bias\n",
        "  first_output=sigmoid_func(weighted_sum) \n",
        "  error=first_output-output\n",
        "  total_error=np.square(np.subtract(first_output,output)).mean() #srednji kvadrat\n",
        "  #print(total_error)\n",
        "\n",
        "  first_der=error\n",
        "  second_der=der(first_output)  #izvodi za gradient descent algorithm \n",
        "  derivative=first_der*second_der\n",
        "\n",
        "  t_input=input_value.T  #input vrijednosti su transponovane, shape je bio (4,2), a sada je (2,4)\n",
        "  final_derivative=np.dot(t_input,derivative)\n",
        "\n",
        "  #update weights\n",
        "  weights=weights-0.5*final_derivative  #0.5 je learning rate koju smo setovali\n",
        "\n",
        "  #update bias\n",
        "  for i in derivative:\n",
        "    bias=bias-0.5*i\n",
        "\n",
        "print(weights)\n",
        "print(bias)\n"
      ],
      "metadata": {
        "colab": {
          "base_uri": "https://localhost:8080/"
        },
        "id": "LKHEuG_9htXb",
        "outputId": "db9a2261-9922-40c4-f428-9f499bfbf38a"
      },
      "execution_count": 16,
      "outputs": [
        {
          "output_type": "stream",
          "name": "stdout",
          "text": [
            "[[-0.4197366]\n",
            " [ 8.9923745]]\n",
            "[-4.19869816]\n"
          ]
        }
      ]
    },
    {
      "cell_type": "code",
      "source": [
        "#predictions\n",
        "pred=np.array([0,1]) #provjeravamo predvidjanje za niz ciji je target value jednak 1 (definisali na pocetku)\n",
        "#zelimo da provjerimo koliko se predvidjanje razlikuje od 1\n",
        "result=np.dot(pred, weights)+bias\n",
        "res=sigmoid_func(result)\n",
        "\n",
        "print(res)\n",
        "#dobijamo broj priblizan jedinici"
      ],
      "metadata": {
        "colab": {
          "base_uri": "https://localhost:8080/"
        },
        "id": "BhZxuxRsqwbj",
        "outputId": "7a644e49-8912-4939-c7ab-baef68bc1218"
      },
      "execution_count": 19,
      "outputs": [
        {
          "output_type": "stream",
          "name": "stdout",
          "text": [
            "[0.0097718]\n"
          ]
        }
      ]
    }
  ]
}